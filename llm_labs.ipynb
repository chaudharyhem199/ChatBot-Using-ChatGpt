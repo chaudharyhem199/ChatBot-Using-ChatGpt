{
 "cells": [
  {
   "cell_type": "code",
   "execution_count": null,
   "id": "5f5b9628-f0e8-4243-a55e-0365f4dcdb98",
   "metadata": {
    "tags": []
   },
   "outputs": [
    {
     "name": "stdout",
     "output_type": "stream",
     "text": [
      "Requirement already satisfied: transformers in c:\\users\\uig28519\\downloads\\wpy64-31131\\python-3.11.3.amd64\\lib\\site-packages (4.33.3)\n",
      "Requirement already satisfied: filelock in c:\\users\\uig28519\\downloads\\wpy64-31131\\python-3.11.3.amd64\\lib\\site-packages (from transformers) (3.8.0)\n",
      "Requirement already satisfied: huggingface-hub<1.0,>=0.15.1 in c:\\users\\uig28519\\downloads\\wpy64-31131\\python-3.11.3.amd64\\lib\\site-packages (from transformers) (0.19.4)\n",
      "Requirement already satisfied: numpy>=1.17 in c:\\users\\uig28519\\downloads\\wpy64-31131\\python-3.11.3.amd64\\lib\\site-packages (from transformers) (1.24.2)\n",
      "Requirement already satisfied: packaging>=20.0 in c:\\users\\uig28519\\downloads\\wpy64-31131\\python-3.11.3.amd64\\lib\\site-packages (from transformers) (22.0)\n",
      "Requirement already satisfied: pyyaml>=5.1 in c:\\users\\uig28519\\downloads\\wpy64-31131\\python-3.11.3.amd64\\lib\\site-packages (from transformers) (6.0)\n",
      "Requirement already satisfied: regex!=2019.12.17 in c:\\users\\uig28519\\downloads\\wpy64-31131\\python-3.11.3.amd64\\lib\\site-packages (from transformers) (2022.9.13)\n",
      "Requirement already satisfied: requests in c:\\users\\uig28519\\downloads\\wpy64-31131\\python-3.11.3.amd64\\lib\\site-packages (from transformers) (2.28.1)\n",
      "Requirement already satisfied: tokenizers!=0.11.3,<0.14,>=0.11.1 in c:\\users\\uig28519\\downloads\\wpy64-31131\\python-3.11.3.amd64\\lib\\site-packages (from transformers) (0.13.3)\n",
      "Requirement already satisfied: safetensors>=0.3.1 in c:\\users\\uig28519\\downloads\\wpy64-31131\\python-3.11.3.amd64\\lib\\site-packages (from transformers) (0.4.1)\n",
      "Requirement already satisfied: tqdm>=4.27 in c:\\users\\uig28519\\downloads\\wpy64-31131\\python-3.11.3.amd64\\lib\\site-packages (from transformers) (4.66.1)\n",
      "Requirement already satisfied: fsspec>=2023.5.0 in c:\\users\\uig28519\\downloads\\wpy64-31131\\python-3.11.3.amd64\\lib\\site-packages (from huggingface-hub<1.0,>=0.15.1->transformers) (2023.5.0)\n",
      "Requirement already satisfied: typing-extensions>=3.7.4.3 in c:\\users\\uig28519\\downloads\\wpy64-31131\\python-3.11.3.amd64\\lib\\site-packages (from huggingface-hub<1.0,>=0.15.1->transformers) (4.8.0)\n",
      "Requirement already satisfied: colorama in c:\\users\\uig28519\\downloads\\wpy64-31131\\python-3.11.3.amd64\\lib\\site-packages (from tqdm>=4.27->transformers) (0.4.6)\n",
      "Requirement already satisfied: charset-normalizer<3,>=2 in c:\\users\\uig28519\\downloads\\wpy64-31131\\python-3.11.3.amd64\\lib\\site-packages (from requests->transformers) (2.0.12)\n",
      "Requirement already satisfied: idna<4,>=2.5 in c:\\users\\uig28519\\downloads\\wpy64-31131\\python-3.11.3.amd64\\lib\\site-packages (from requests->transformers) (3.1)\n",
      "Requirement already satisfied: urllib3<1.27,>=1.21.1 in c:\\users\\uig28519\\downloads\\wpy64-31131\\python-3.11.3.amd64\\lib\\site-packages (from requests->transformers) (1.26.10)\n",
      "Requirement already satisfied: certifi>=2017.4.17 in c:\\users\\uig28519\\downloads\\wpy64-31131\\python-3.11.3.amd64\\lib\\site-packages (from requests->transformers) (2022.9.24)\n"
     ]
    },
    {
     "name": "stderr",
     "output_type": "stream",
     "text": [
      "\n",
      "[notice] A new release of pip is available: 23.1.2 -> 23.3.1\n",
      "[notice] To update, run: python.exe -m pip install --upgrade pip\n",
      "\n",
      "[notice] A new release of pip is available: 23.1.2 -> 23.3.1\n",
      "[notice] To update, run: python.exe -m pip install --upgrade pip\n"
     ]
    },
    {
     "name": "stdout",
     "output_type": "stream",
     "text": [
      "Requirement already satisfied: torchdata in c:\\users\\uig28519\\downloads\\wpy64-31131\\python-3.11.3.amd64\\lib\\site-packages (0.6.1)"
     ]
    },
    {
     "name": "stderr",
     "output_type": "stream",
     "text": [
      "\n",
      "[notice] A new release of pip is available: 23.1.2 -> 23.3.1\n",
      "[notice] To update, run: python.exe -m pip install --upgrade pip\n"
     ]
    },
    {
     "name": "stdout",
     "output_type": "stream",
     "text": [
      "\n",
      "Requirement already satisfied: urllib3>=1.25 in c:\\users\\uig28519\\downloads\\wpy64-31131\\python-3.11.3.amd64\\lib\\site-packages (from torchdata) (1.26.10)\n",
      "Requirement already satisfied: requests in c:\\users\\uig28519\\downloads\\wpy64-31131\\python-3.11.3.amd64\\lib\\site-packages (from torchdata) (2.28.1)\n",
      "Requirement already satisfied: torch==2.0.1 in c:\\users\\uig28519\\downloads\\wpy64-31131\\python-3.11.3.amd64\\lib\\site-packages (from torchdata) (2.0.1)\n",
      "Requirement already satisfied: filelock in c:\\users\\uig28519\\downloads\\wpy64-31131\\python-3.11.3.amd64\\lib\\site-packages (from torch==2.0.1->torchdata) (3.8.0)\n",
      "Requirement already satisfied: typing-extensions in c:\\users\\uig28519\\downloads\\wpy64-31131\\python-3.11.3.amd64\\lib\\site-packages (from torch==2.0.1->torchdata) (4.8.0)\n",
      "Requirement already satisfied: sympy in c:\\users\\uig28519\\downloads\\wpy64-31131\\python-3.11.3.amd64\\lib\\site-packages (from torch==2.0.1->torchdata) (1.12)\n",
      "Requirement already satisfied: networkx in c:\\users\\uig28519\\downloads\\wpy64-31131\\python-3.11.3.amd64\\lib\\site-packages (from torch==2.0.1->torchdata) (3.1)\n",
      "Requirement already satisfied: jinja2 in c:\\users\\uig28519\\downloads\\wpy64-31131\\python-3.11.3.amd64\\lib\\site-packages (from torch==2.0.1->torchdata) (3.1.2)\n",
      "Requirement already satisfied: charset-normalizer<3,>=2 in c:\\users\\uig28519\\downloads\\wpy64-31131\\python-3.11.3.amd64\\lib\\site-packages (from requests->torchdata) (2.0.12)\n",
      "Requirement already satisfied: idna<4,>=2.5 in c:\\users\\uig28519\\downloads\\wpy64-31131\\python-3.11.3.amd64\\lib\\site-packages (from requests->torchdata) (3.1)\n",
      "Requirement already satisfied: certifi>=2017.4.17 in c:\\users\\uig28519\\downloads\\wpy64-31131\\python-3.11.3.amd64\\lib\\site-packages (from requests->torchdata) (2022.9.24)\n",
      "Requirement already satisfied: MarkupSafe>=2.0 in c:\\users\\uig28519\\downloads\\wpy64-31131\\python-3.11.3.amd64\\lib\\site-packages (from jinja2->torch==2.0.1->torchdata) (2.1.1)\n",
      "Requirement already satisfied: mpmath>=0.19 in c:\\users\\uig28519\\downloads\\wpy64-31131\\python-3.11.3.amd64\\lib\\site-packages (from sympy->torch==2.0.1->torchdata) (1.2.1)\n",
      "Requirement already satisfied: torch in c:\\users\\uig28519\\downloads\\wpy64-31131\\python-3.11.3.amd64\\lib\\site-packages (2.0.1)\n",
      "Requirement already satisfied: filelock in c:\\users\\uig28519\\downloads\\wpy64-31131\\python-3.11.3.amd64\\lib\\site-packages (from torch) (3.8.0)\n",
      "Requirement already satisfied: typing-extensions in c:\\users\\uig28519\\downloads\\wpy64-31131\\python-3.11.3.amd64\\lib\\site-packages (from torch) (4.8.0)\n",
      "Requirement already satisfied: sympy in c:\\users\\uig28519\\downloads\\wpy64-31131\\python-3.11.3.amd64\\lib\\site-packages (from torch) (1.12)\n",
      "Requirement already satisfied: networkx in c:\\users\\uig28519\\downloads\\wpy64-31131\\python-3.11.3.amd64\\lib\\site-packages (from torch) (3.1)\n",
      "Requirement already satisfied: jinja2 in c:\\users\\uig28519\\downloads\\wpy64-31131\\python-3.11.3.amd64\\lib\\site-packages (from torch) (3.1.2)\n",
      "Requirement already satisfied: MarkupSafe>=2.0 in c:\\users\\uig28519\\downloads\\wpy64-31131\\python-3.11.3.amd64\\lib\\site-packages (from jinja2->torch) (2.1.1)\n",
      "Requirement already satisfied: mpmath>=0.19 in c:\\users\\uig28519\\downloads\\wpy64-31131\\python-3.11.3.amd64\\lib\\site-packages (from sympy->torch) (1.2.1)\n"
     ]
    },
    {
     "name": "stderr",
     "output_type": "stream",
     "text": [
      "\n",
      "[notice] A new release of pip is available: 23.1.2 -> 23.3.1\n",
      "[notice] To update, run: python.exe -m pip install --upgrade pip\n"
     ]
    },
    {
     "name": "stdout",
     "output_type": "stream",
     "text": [
      "Requirement already satisfied: streamlit in c:\\users\\uig28519\\downloads\\wpy64-31131\\python-3.11.3.amd64\\lib\\site-packages (1.27.0)\n",
      "Requirement already satisfied: altair<6,>=4.0 in c:\\users\\uig28519\\downloads\\wpy64-31131\\python-3.11.3.amd64\\lib\\site-packages (from streamlit) (4.2.2)\n",
      "Requirement already satisfied: blinker<2,>=1.0.0 in c:\\users\\uig28519\\downloads\\wpy64-31131\\python-3.11.3.amd64\\lib\\site-packages (from streamlit) (1.4)\n",
      "Requirement already satisfied: cachetools<6,>=4.0 in c:\\users\\uig28519\\downloads\\wpy64-31131\\python-3.11.3.amd64\\lib\\site-packages (from streamlit) (5.2.0)\n",
      "Requirement already satisfied: click<9,>=7.0 in c:\\users\\uig28519\\downloads\\wpy64-31131\\python-3.11.3.amd64\\lib\\site-packages (from streamlit) (8.1.3)\n",
      "Requirement already satisfied: importlib-metadata<7,>=1.4 in c:\\users\\uig28519\\downloads\\wpy64-31131\\python-3.11.3.amd64\\lib\\site-packages (from streamlit) (5.0.0)\n",
      "Requirement already satisfied: numpy<2,>=1.19.3 in c:\\users\\uig28519\\downloads\\wpy64-31131\\python-3.11.3.amd64\\lib\\site-packages (from streamlit) (1.24.2)\n",
      "Requirement already satisfied: packaging<24,>=16.8 in c:\\users\\uig28519\\downloads\\wpy64-31131\\python-3.11.3.amd64\\lib\\site-packages (from streamlit) (22.0)\n",
      "Requirement already satisfied: pandas<3,>=1.3.0 in c:\\users\\uig28519\\downloads\\wpy64-31131\\python-3.11.3.amd64\\lib\\site-packages (from streamlit) (1.5.2)\n",
      "Requirement already satisfied: pillow<10,>=7.1.0 in c:\\users\\uig28519\\downloads\\wpy64-31131\\python-3.11.3.amd64\\lib\\site-packages (from streamlit) (9.5.0)\n",
      "Requirement already satisfied: protobuf<5,>=3.20 in c:\\users\\uig28519\\downloads\\wpy64-31131\\python-3.11.3.amd64\\lib\\site-packages (from streamlit) (3.20.3)\n",
      "Requirement already satisfied: pyarrow>=6.0 in c:\\users\\uig28519\\downloads\\wpy64-31131\\python-3.11.3.amd64\\lib\\site-packages (from streamlit) (12.0.0)\n",
      "Requirement already satisfied: python-dateutil<3,>=2.7.3 in c:\\users\\uig28519\\downloads\\wpy64-31131\\python-3.11.3.amd64\\lib\\site-packages (from streamlit) (2.8.2)\n",
      "Requirement already satisfied: requests<3,>=2.18 in c:\\users\\uig28519\\downloads\\wpy64-31131\\python-3.11.3.amd64\\lib\\site-packages (from streamlit) (2.28.1)\n",
      "Requirement already satisfied: rich<14,>=10.14.0 in c:\\users\\uig28519\\downloads\\wpy64-31131\\python-3.11.3.amd64\\lib\\site-packages (from streamlit) (12.4.4)\n",
      "Requirement already satisfied: tenacity<9,>=8.1.0 in c:\\users\\uig28519\\downloads\\wpy64-31131\\python-3.11.3.amd64\\lib\\site-packages (from streamlit) (8.1.0)\n",
      "Requirement already satisfied: toml<2,>=0.10.1 in c:\\users\\uig28519\\downloads\\wpy64-31131\\python-3.11.3.amd64\\lib\\site-packages (from streamlit) (0.10.2)\n",
      "Requirement already satisfied: typing-extensions<5,>=4.1.0 in c:\\users\\uig28519\\downloads\\wpy64-31131\\python-3.11.3.amd64\\lib\\site-packages (from streamlit) (4.8.0)\n",
      "Requirement already satisfied: tzlocal<6,>=1.1 in c:\\users\\uig28519\\downloads\\wpy64-31131\\python-3.11.3.amd64\\lib\\site-packages (from streamlit) (4.2)\n",
      "Requirement already satisfied: validators<1,>=0.2 in c:\\users\\uig28519\\downloads\\wpy64-31131\\python-3.11.3.amd64\\lib\\site-packages (from streamlit) (0.18.2)\n",
      "Requirement already satisfied: gitpython!=3.1.19,<4,>=3.0.7 in c:\\users\\uig28519\\downloads\\wpy64-31131\\python-3.11.3.amd64\\lib\\site-packages (from streamlit) (3.1.29)\n",
      "Requirement already satisfied: pydeck<1,>=0.8.0b4 in c:\\users\\uig28519\\downloads\\wpy64-31131\\python-3.11.3.amd64\\lib\\site-packages (from streamlit) (0.8.0)\n",
      "Requirement already satisfied: tornado<7,>=6.0.3 in c:\\users\\uig28519\\downloads\\wpy64-31131\\python-3.11.3.amd64\\lib\\site-packages (from streamlit) (6.3.1)\n",
      "Requirement already satisfied: watchdog>=2.1.5 in c:\\users\\uig28519\\downloads\\wpy64-31131\\python-3.11.3.amd64\\lib\\site-packages (from streamlit) (2.2.0)\n",
      "Requirement already satisfied: entrypoints in c:\\users\\uig28519\\downloads\\wpy64-31131\\python-3.11.3.amd64\\lib\\site-packages (from altair<6,>=4.0->streamlit) (0.4)\n",
      "Requirement already satisfied: jinja2 in c:\\users\\uig28519\\downloads\\wpy64-31131\\python-3.11.3.amd64\\lib\\site-packages (from altair<6,>=4.0->streamlit) (3.1.2)\n",
      "Requirement already satisfied: jsonschema>=3.0 in c:\\users\\uig28519\\downloads\\wpy64-31131\\python-3.11.3.amd64\\lib\\site-packages (from altair<6,>=4.0->streamlit) (4.17.3)\n",
      "Requirement already satisfied: toolz in c:\\users\\uig28519\\downloads\\wpy64-31131\\python-3.11.3.amd64\\lib\\site-packages (from altair<6,>=4.0->streamlit) (0.12.0)\n",
      "Requirement already satisfied: colorama in c:\\users\\uig28519\\downloads\\wpy64-31131\\python-3.11.3.amd64\\lib\\site-packages (from click<9,>=7.0->streamlit) (0.4.6)\n",
      "Requirement already satisfied: gitdb<5,>=4.0.1 in c:\\users\\uig28519\\downloads\\wpy64-31131\\python-3.11.3.amd64\\lib\\site-packages (from gitpython!=3.1.19,<4,>=3.0.7->streamlit) (4.0.9)\n",
      "Requirement already satisfied: zipp>=0.5 in c:\\users\\uig28519\\downloads\\wpy64-31131\\python-3.11.3.amd64\\lib\\site-packages (from importlib-metadata<7,>=1.4->streamlit) (3.9.0)\n",
      "Requirement already satisfied: pytz>=2020.1 in c:\\users\\uig28519\\downloads\\wpy64-31131\\python-3.11.3.amd64\\lib\\site-packages (from pandas<3,>=1.3.0->streamlit) (2022.4)\n",
      "Requirement already satisfied: six>=1.5 in c:\\users\\uig28519\\downloads\\wpy64-31131\\python-3.11.3.amd64\\lib\\site-packages (from python-dateutil<3,>=2.7.3->streamlit) (1.16.0)\n",
      "Requirement already satisfied: charset-normalizer<3,>=2 in c:\\users\\uig28519\\downloads\\wpy64-31131\\python-3.11.3.amd64\\lib\\site-packages (from requests<3,>=2.18->streamlit) (2.0.12)\n",
      "Requirement already satisfied: idna<4,>=2.5 in c:\\users\\uig28519\\downloads\\wpy64-31131\\python-3.11.3.amd64\\lib\\site-packages (from requests<3,>=2.18->streamlit) (3.1)\n",
      "Requirement already satisfied: urllib3<1.27,>=1.21.1 in c:\\users\\uig28519\\downloads\\wpy64-31131\\python-3.11.3.amd64\\lib\\site-packages (from requests<3,>=2.18->streamlit) (1.26.10)\n",
      "Requirement already satisfied: certifi>=2017.4.17 in c:\\users\\uig28519\\downloads\\wpy64-31131\\python-3.11.3.amd64\\lib\\site-packages (from requests<3,>=2.18->streamlit) (2022.9.24)\n",
      "Requirement already satisfied: commonmark<0.10.0,>=0.9.0 in c:\\users\\uig28519\\downloads\\wpy64-31131\\python-3.11.3.amd64\\lib\\site-packages (from rich<14,>=10.14.0->streamlit) (0.9.1)\n",
      "Requirement already satisfied: pygments<3.0.0,>=2.6.0 in c:\\users\\uig28519\\downloads\\wpy64-31131\\python-3.11.3.amd64\\lib\\site-packages (from rich<14,>=10.14.0->streamlit) (2.15.1)\n",
      "Requirement already satisfied: pytz-deprecation-shim in c:\\users\\uig28519\\downloads\\wpy64-31131\\python-3.11.3.amd64\\lib\\site-packages (from tzlocal<6,>=1.1->streamlit) (0.1.0.post0)\n",
      "Requirement already satisfied: tzdata in c:\\users\\uig28519\\downloads\\wpy64-31131\\python-3.11.3.amd64\\lib\\site-packages (from tzlocal<6,>=1.1->streamlit) (2022.7)\n",
      "Requirement already satisfied: decorator>=3.4.0 in c:\\users\\uig28519\\downloads\\wpy64-31131\\python-3.11.3.amd64\\lib\\site-packages (from validators<1,>=0.2->streamlit) (4.4.2)\n",
      "Requirement already satisfied: smmap<6,>=3.0.1 in c:\\users\\uig28519\\downloads\\wpy64-31131\\python-3.11.3.amd64\\lib\\site-packages (from gitdb<5,>=4.0.1->gitpython!=3.1.19,<4,>=3.0.7->streamlit) (5.0.0)\n",
      "Requirement already satisfied: MarkupSafe>=2.0 in c:\\users\\uig28519\\downloads\\wpy64-31131\\python-3.11.3.amd64\\lib\\site-packages (from jinja2->altair<6,>=4.0->streamlit) (2.1.1)\n",
      "Requirement already satisfied: attrs>=17.4.0 in c:\\users\\uig28519\\downloads\\wpy64-31131\\python-3.11.3.amd64\\lib\\site-packages (from jsonschema>=3.0->altair<6,>=4.0->streamlit) (22.1.0)\n",
      "Requirement already satisfied: pyrsistent!=0.17.0,!=0.17.1,!=0.17.2,>=0.14.0 in c:\\users\\uig28519\\downloads\\wpy64-31131\\python-3.11.3.amd64\\lib\\site-packages (from jsonschema>=3.0->altair<6,>=4.0->streamlit) (0.18.1)\n"
     ]
    },
    {
     "name": "stderr",
     "output_type": "stream",
     "text": [
      "\n",
      "[notice] A new release of pip is available: 23.1.2 -> 23.3.1\n",
      "[notice] To update, run: python.exe -m pip install --upgrade pip\n"
     ]
    },
    {
     "name": "stdout",
     "output_type": "stream",
     "text": [
      "Requirement already satisfied: openai in c:\\users\\uig28519\\downloads\\wpy64-31131\\python-3.11.3.amd64\\lib\\site-packages (0.28.1)"
     ]
    },
    {
     "name": "stderr",
     "output_type": "stream",
     "text": [
      "\n",
      "[notice] A new release of pip is available: 23.1.2 -> 23.3.1\n",
      "[notice] To update, run: python.exe -m pip install --upgrade pip\n"
     ]
    },
    {
     "name": "stdout",
     "output_type": "stream",
     "text": [
      "\n",
      "Requirement already satisfied: requests>=2.20 in c:\\users\\uig28519\\downloads\\wpy64-31131\\python-3.11.3.amd64\\lib\\site-packages (from openai) (2.28.1)\n",
      "Requirement already satisfied: tqdm in c:\\users\\uig28519\\downloads\\wpy64-31131\\python-3.11.3.amd64\\lib\\site-packages (from openai) (4.66.1)\n",
      "Requirement already satisfied: aiohttp in c:\\users\\uig28519\\downloads\\wpy64-31131\\python-3.11.3.amd64\\lib\\site-packages (from openai) (3.8.3)\n",
      "Requirement already satisfied: charset-normalizer<3,>=2 in c:\\users\\uig28519\\downloads\\wpy64-31131\\python-3.11.3.amd64\\lib\\site-packages (from requests>=2.20->openai) (2.0.12)\n",
      "Requirement already satisfied: idna<4,>=2.5 in c:\\users\\uig28519\\downloads\\wpy64-31131\\python-3.11.3.amd64\\lib\\site-packages (from requests>=2.20->openai) (3.1)\n",
      "Requirement already satisfied: urllib3<1.27,>=1.21.1 in c:\\users\\uig28519\\downloads\\wpy64-31131\\python-3.11.3.amd64\\lib\\site-packages (from requests>=2.20->openai) (1.26.10)\n",
      "Requirement already satisfied: certifi>=2017.4.17 in c:\\users\\uig28519\\downloads\\wpy64-31131\\python-3.11.3.amd64\\lib\\site-packages (from requests>=2.20->openai) (2022.9.24)\n",
      "Requirement already satisfied: attrs>=17.3.0 in c:\\users\\uig28519\\downloads\\wpy64-31131\\python-3.11.3.amd64\\lib\\site-packages (from aiohttp->openai) (22.1.0)\n",
      "Requirement already satisfied: multidict<7.0,>=4.5 in c:\\users\\uig28519\\downloads\\wpy64-31131\\python-3.11.3.amd64\\lib\\site-packages (from aiohttp->openai) (6.0.2)\n",
      "Requirement already satisfied: async-timeout<5.0,>=4.0.0a3 in c:\\users\\uig28519\\downloads\\wpy64-31131\\python-3.11.3.amd64\\lib\\site-packages (from aiohttp->openai) (4.0.2)\n",
      "Requirement already satisfied: yarl<2.0,>=1.0 in c:\\users\\uig28519\\downloads\\wpy64-31131\\python-3.11.3.amd64\\lib\\site-packages (from aiohttp->openai) (1.7.2)\n",
      "Requirement already satisfied: frozenlist>=1.1.1 in c:\\users\\uig28519\\downloads\\wpy64-31131\\python-3.11.3.amd64\\lib\\site-packages (from aiohttp->openai) (1.3.0)\n",
      "Requirement already satisfied: aiosignal>=1.1.2 in c:\\users\\uig28519\\downloads\\wpy64-31131\\python-3.11.3.amd64\\lib\\site-packages (from aiohttp->openai) (1.2.0)\n",
      "Requirement already satisfied: colorama in c:\\users\\uig28519\\downloads\\wpy64-31131\\python-3.11.3.amd64\\lib\\site-packages (from tqdm->openai) (0.4.6)\n",
      "Requirement already satisfied: langchain in c:\\users\\uig28519\\downloads\\wpy64-31131\\python-3.11.3.amd64\\lib\\site-packages (0.0.304)\n",
      "Requirement already satisfied: PyYAML>=5.3 in c:\\users\\uig28519\\downloads\\wpy64-31131\\python-3.11.3.amd64\\lib\\site-packages (from langchain) (6.0)\n",
      "Requirement already satisfied: SQLAlchemy<3,>=1.4 in c:\\users\\uig28519\\downloads\\wpy64-31131\\python-3.11.3.amd64\\lib\\site-packages (from langchain) (1.4.47)\n",
      "Requirement already satisfied: aiohttp<4.0.0,>=3.8.3 in c:\\users\\uig28519\\downloads\\wpy64-31131\\python-3.11.3.amd64\\lib\\site-packages (from langchain) (3.8.3)\n",
      "Requirement already satisfied: anyio<4.0 in c:\\users\\uig28519\\downloads\\wpy64-31131\\python-3.11.3.amd64\\lib\\site-packages (from langchain) (3.7.1)\n",
      "Requirement already satisfied: dataclasses-json<0.7,>=0.5.7 in c:\\users\\uig28519\\downloads\\wpy64-31131\\python-3.11.3.amd64\\lib\\site-packages (from langchain) (0.6.3)\n",
      "Requirement already satisfied: jsonpatch<2.0,>=1.33 in c:\\users\\uig28519\\downloads\\wpy64-31131\\python-3.11.3.amd64\\lib\\site-packages (from langchain) (1.33)\n",
      "Requirement already satisfied: langsmith<0.1.0,>=0.0.38 in c:\\users\\uig28519\\downloads\\wpy64-31131\\python-3.11.3.amd64\\lib\\site-packages (from langchain) (0.0.69)\n",
      "Requirement already satisfied: numexpr<3.0.0,>=2.8.4 in c:\\users\\uig28519\\downloads\\wpy64-31131\\python-3.11.3.amd64\\lib\\site-packages (from langchain) (2.8.4)\n",
      "Requirement already satisfied: numpy<2,>=1 in c:\\users\\uig28519\\downloads\\wpy64-31131\\python-3.11.3.amd64\\lib\\site-packages (from langchain) (1.24.2)\n",
      "Requirement already satisfied: pydantic<3,>=1 in c:\\users\\uig28519\\downloads\\wpy64-31131\\python-3.11.3.amd64\\lib\\site-packages (from langchain) (1.9.1)\n",
      "Requirement already satisfied: requests<3,>=2 in c:\\users\\uig28519\\downloads\\wpy64-31131\\python-3.11.3.amd64\\lib\\site-packages (from langchain) (2.28.1)\n",
      "Requirement already satisfied: tenacity<9.0.0,>=8.1.0 in c:\\users\\uig28519\\downloads\\wpy64-31131\\python-3.11.3.amd64\\lib\\site-packages (from langchain) (8.1.0)\n",
      "Requirement already satisfied: attrs>=17.3.0 in c:\\users\\uig28519\\downloads\\wpy64-31131\\python-3.11.3.amd64\\lib\\site-packages (from aiohttp<4.0.0,>=3.8.3->langchain) (22.1.0)\n",
      "Requirement already satisfied: charset-normalizer<3.0,>=2.0 in c:\\users\\uig28519\\downloads\\wpy64-31131\\python-3.11.3.amd64\\lib\\site-packages (from aiohttp<4.0.0,>=3.8.3->langchain) (2.0.12)\n",
      "Requirement already satisfied: multidict<7.0,>=4.5 in c:\\users\\uig28519\\downloads\\wpy64-31131\\python-3.11.3.amd64\\lib\\site-packages (from aiohttp<4.0.0,>=3.8.3->langchain) (6.0.2)\n",
      "Requirement already satisfied: async-timeout<5.0,>=4.0.0a3 in c:\\users\\uig28519\\downloads\\wpy64-31131\\python-3.11.3.amd64\\lib\\site-packages (from aiohttp<4.0.0,>=3.8.3->langchain) (4.0.2)\n",
      "Requirement already satisfied: yarl<2.0,>=1.0 in c:\\users\\uig28519\\downloads\\wpy64-31131\\python-3.11.3.amd64\\lib\\site-packages (from aiohttp<4.0.0,>=3.8.3->langchain) (1.7.2)\n",
      "Requirement already satisfied: frozenlist>=1.1.1 in c:\\users\\uig28519\\downloads\\wpy64-31131\\python-3.11.3.amd64\\lib\\site-packages (from aiohttp<4.0.0,>=3.8.3->langchain) (1.3.0)\n",
      "Requirement already satisfied: aiosignal>=1.1.2 in c:\\users\\uig28519\\downloads\\wpy64-31131\\python-3.11.3.amd64\\lib\\site-packages (from aiohttp<4.0.0,>=3.8.3->langchain) (1.2.0)\n",
      "Requirement already satisfied: idna>=2.8 in c:\\users\\uig28519\\downloads\\wpy64-31131\\python-3.11.3.amd64\\lib\\site-packages (from anyio<4.0->langchain) (3.1)\n",
      "Requirement already satisfied: sniffio>=1.1 in c:\\users\\uig28519\\downloads\\wpy64-31131\\python-3.11.3.amd64\\lib\\site-packages (from anyio<4.0->langchain) (1.2.0)\n",
      "Requirement already satisfied: marshmallow<4.0.0,>=3.18.0 in c:\\users\\uig28519\\downloads\\wpy64-31131\\python-3.11.3.amd64\\lib\\site-packages (from dataclasses-json<0.7,>=0.5.7->langchain) (3.20.1)\n",
      "Requirement already satisfied: typing-inspect<1,>=0.4.0 in c:\\users\\uig28519\\downloads\\wpy64-31131\\python-3.11.3.amd64\\lib\\site-packages (from dataclasses-json<0.7,>=0.5.7->langchain) (0.9.0)\n",
      "Requirement already satisfied: jsonpointer>=1.9 in c:\\users\\uig28519\\downloads\\wpy64-31131\\python-3.11.3.amd64\\lib\\site-packages (from jsonpatch<2.0,>=1.33->langchain) (2.3)\n",
      "Requirement already satisfied: typing-extensions>=3.7.4.3 in c:\\users\\uig28519\\downloads\\wpy64-31131\\python-3.11.3.amd64\\lib\\site-packages (from pydantic<3,>=1->langchain) (4.8.0)\n",
      "Requirement already satisfied: urllib3<1.27,>=1.21.1 in c:\\users\\uig28519\\downloads\\wpy64-31131\\python-3.11.3.amd64\\lib\\site-packages (from requests<3,>=2->langchain) (1.26.10)\n",
      "Requirement already satisfied: certifi>=2017.4.17 in c:\\users\\uig28519\\downloads\\wpy64-31131\\python-3.11.3.amd64\\lib\\site-packages (from requests<3,>=2->langchain) (2022.9.24)\n",
      "Requirement already satisfied: greenlet!=0.4.17 in c:\\users\\uig28519\\downloads\\wpy64-31131\\python-3.11.3.amd64\\lib\\site-packages (from SQLAlchemy<3,>=1.4->langchain) (2.0.2)\n",
      "Requirement already satisfied: packaging>=17.0 in c:\\users\\uig28519\\downloads\\wpy64-31131\\python-3.11.3.amd64\\lib\\site-packages (from marshmallow<4.0.0,>=3.18.0->dataclasses-json<0.7,>=0.5.7->langchain) (22.0)\n",
      "Requirement already satisfied: mypy-extensions>=0.3.0 in c:\\users\\uig28519\\downloads\\wpy64-31131\\python-3.11.3.amd64\\lib\\site-packages (from typing-inspect<1,>=0.4.0->dataclasses-json<0.7,>=0.5.7->langchain) (1.0.0)\n"
     ]
    },
    {
     "name": "stderr",
     "output_type": "stream",
     "text": [
      "\n",
      "[notice] A new release of pip is available: 23.1.2 -> 23.3.1\n",
      "[notice] To update, run: python.exe -m pip install --upgrade pip\n"
     ]
    },
    {
     "name": "stdout",
     "output_type": "stream",
     "text": [
      "Requirement already satisfied: unstructured in c:\\users\\uig28519\\downloads\\wpy64-31131\\python-3.11.3.amd64\\lib\\site-packages (0.10.16)\n",
      "Requirement already satisfied: chardet in c:\\users\\uig28519\\downloads\\wpy64-31131\\python-3.11.3.amd64\\lib\\site-packages (from unstructured) (5.0.0)\n",
      "Requirement already satisfied: filetype in c:\\users\\uig28519\\downloads\\wpy64-31131\\python-3.11.3.amd64\\lib\\site-packages (from unstructured) (1.2.0)\n",
      "Requirement already satisfied: python-magic in c:\\users\\uig28519\\downloads\\wpy64-31131\\python-3.11.3.amd64\\lib\\site-packages (from unstructured) (0.4.27)\n",
      "Requirement already satisfied: lxml in c:\\users\\uig28519\\downloads\\wpy64-31131\\python-3.11.3.amd64\\lib\\site-packages (from unstructured) (4.9.0)\n",
      "Requirement already satisfied: nltk in c:\\users\\uig28519\\downloads\\wpy64-31131\\python-3.11.3.amd64\\lib\\site-packages (from unstructured) (3.7)\n",
      "Requirement already satisfied: tabulate in c:\\users\\uig28519\\downloads\\wpy64-31131\\python-3.11.3.amd64\\lib\\site-packages (from unstructured) (0.9.0)\n",
      "Requirement already satisfied: requests in c:\\users\\uig28519\\downloads\\wpy64-31131\\python-3.11.3.amd64\\lib\\site-packages (from unstructured) (2.28.1)\n",
      "Requirement already satisfied: beautifulsoup4 in c:\\users\\uig28519\\downloads\\wpy64-31131\\python-3.11.3.amd64\\lib\\site-packages (from unstructured) (4.11.1)\n",
      "Requirement already satisfied: emoji in c:\\users\\uig28519\\downloads\\wpy64-31131\\python-3.11.3.amd64\\lib\\site-packages (from unstructured) (2.9.0)\n",
      "Requirement already satisfied: dataclasses-json in c:\\users\\uig28519\\downloads\\wpy64-31131\\python-3.11.3.amd64\\lib\\site-packages (from unstructured) (0.6.3)\n",
      "Requirement already satisfied: python-iso639 in c:\\users\\uig28519\\downloads\\wpy64-31131\\python-3.11.3.amd64\\lib\\site-packages (from unstructured) (2023.6.15)\n",
      "Requirement already satisfied: soupsieve>1.2 in c:\\users\\uig28519\\downloads\\wpy64-31131\\python-3.11.3.amd64\\lib\\site-packages (from beautifulsoup4->unstructured) (2.3.2.post1)\n",
      "Requirement already satisfied: marshmallow<4.0.0,>=3.18.0 in c:\\users\\uig28519\\downloads\\wpy64-31131\\python-3.11.3.amd64\\lib\\site-packages (from dataclasses-json->unstructured) (3.20.1)\n",
      "Requirement already satisfied: typing-inspect<1,>=0.4.0 in c:\\users\\uig28519\\downloads\\wpy64-31131\\python-3.11.3.amd64\\lib\\site-packages (from dataclasses-json->unstructured) (0.9.0)\n",
      "Requirement already satisfied: click in c:\\users\\uig28519\\downloads\\wpy64-31131\\python-3.11.3.amd64\\lib\\site-packages (from nltk->unstructured) (8.1.3)\n",
      "Requirement already satisfied: joblib in c:\\users\\uig28519\\downloads\\wpy64-31131\\python-3.11.3.amd64\\lib\\site-packages (from nltk->unstructured) (1.2.0)\n",
      "Requirement already satisfied: regex>=2021.8.3 in c:\\users\\uig28519\\downloads\\wpy64-31131\\python-3.11.3.amd64\\lib\\site-packages (from nltk->unstructured) (2022.9.13)\n",
      "Requirement already satisfied: tqdm in c:\\users\\uig28519\\downloads\\wpy64-31131\\python-3.11.3.amd64\\lib\\site-packages (from nltk->unstructured) (4.66.1)\n",
      "Requirement already satisfied: charset-normalizer<3,>=2 in c:\\users\\uig28519\\downloads\\wpy64-31131\\python-3.11.3.amd64\\lib\\site-packages (from requests->unstructured) (2.0.12)\n",
      "Requirement already satisfied: idna<4,>=2.5 in c:\\users\\uig28519\\downloads\\wpy64-31131\\python-3.11.3.amd64\\lib\\site-packages (from requests->unstructured) (3.1)\n",
      "Requirement already satisfied: urllib3<1.27,>=1.21.1 in c:\\users\\uig28519\\downloads\\wpy64-31131\\python-3.11.3.amd64\\lib\\site-packages (from requests->unstructured) (1.26.10)\n",
      "Requirement already satisfied: certifi>=2017.4.17 in c:\\users\\uig28519\\downloads\\wpy64-31131\\python-3.11.3.amd64\\lib\\site-packages (from requests->unstructured) (2022.9.24)\n",
      "Requirement already satisfied: packaging>=17.0 in c:\\users\\uig28519\\downloads\\wpy64-31131\\python-3.11.3.amd64\\lib\\site-packages (from marshmallow<4.0.0,>=3.18.0->dataclasses-json->unstructured) (22.0)\n",
      "Requirement already satisfied: mypy-extensions>=0.3.0 in c:\\users\\uig28519\\downloads\\wpy64-31131\\python-3.11.3.amd64\\lib\\site-packages (from typing-inspect<1,>=0.4.0->dataclasses-json->unstructured) (1.0.0)\n",
      "Requirement already satisfied: typing-extensions>=3.7.4 in c:\\users\\uig28519\\downloads\\wpy64-31131\\python-3.11.3.amd64\\lib\\site-packages (from typing-inspect<1,>=0.4.0->dataclasses-json->unstructured) (4.8.0)\n",
      "Requirement already satisfied: colorama in c:\\users\\uig28519\\downloads\\wpy64-31131\\python-3.11.3.amd64\\lib\\site-packages (from click->nltk->unstructured) (0.4.6)\n"
     ]
    },
    {
     "name": "stderr",
     "output_type": "stream",
     "text": [
      "\n",
      "[notice] A new release of pip is available: 23.1.2 -> 23.3.1\n",
      "[notice] To update, run: python.exe -m pip install --upgrade pip\n"
     ]
    },
    {
     "name": "stdout",
     "output_type": "stream",
     "text": [
      "Requirement already satisfied: sentence-transformers in c:\\users\\uig28519\\downloads\\wpy64-31131\\python-3.11.3.amd64\\lib\\site-packages (2.2.2)\n",
      "Requirement already satisfied: transformers<5.0.0,>=4.6.0 in c:\\users\\uig28519\\downloads\\wpy64-31131\\python-3.11.3.amd64\\lib\\site-packages (from sentence-transformers) (4.33.3)\n",
      "Requirement already satisfied: tqdm in c:\\users\\uig28519\\downloads\\wpy64-31131\\python-3.11.3.amd64\\lib\\site-packages (from sentence-transformers) (4.66.1)\n",
      "Requirement already satisfied: torch>=1.6.0 in c:\\users\\uig28519\\downloads\\wpy64-31131\\python-3.11.3.amd64\\lib\\site-packages (from sentence-transformers) (2.0.1)\n",
      "Requirement already satisfied: torchvision in c:\\users\\uig28519\\downloads\\wpy64-31131\\python-3.11.3.amd64\\lib\\site-packages (from sentence-transformers) (0.15.2)\n",
      "Requirement already satisfied: numpy in c:\\users\\uig28519\\downloads\\wpy64-31131\\python-3.11.3.amd64\\lib\\site-packages (from sentence-transformers) (1.24.2)\n",
      "Requirement already satisfied: scikit-learn in c:\\users\\uig28519\\downloads\\wpy64-31131\\python-3.11.3.amd64\\lib\\site-packages (from sentence-transformers) (1.2.2)\n",
      "Requirement already satisfied: scipy in c:\\users\\uig28519\\downloads\\wpy64-31131\\python-3.11.3.amd64\\lib\\site-packages (from sentence-transformers) (1.10.1)\n",
      "Requirement already satisfied: nltk in c:\\users\\uig28519\\downloads\\wpy64-31131\\python-3.11.3.amd64\\lib\\site-packages (from sentence-transformers) (3.7)\n",
      "Requirement already satisfied: sentencepiece in c:\\users\\uig28519\\downloads\\wpy64-31131\\python-3.11.3.amd64\\lib\\site-packages (from sentence-transformers) (0.1.99)\n",
      "Requirement already satisfied: huggingface-hub>=0.4.0 in c:\\users\\uig28519\\downloads\\wpy64-31131\\python-3.11.3.amd64\\lib\\site-packages (from sentence-transformers) (0.19.4)\n",
      "Requirement already satisfied: filelock in c:\\users\\uig28519\\downloads\\wpy64-31131\\python-3.11.3.amd64\\lib\\site-packages (from huggingface-hub>=0.4.0->sentence-transformers) (3.8.0)\n",
      "Requirement already satisfied: fsspec>=2023.5.0 in c:\\users\\uig28519\\downloads\\wpy64-31131\\python-3.11.3.amd64\\lib\\site-packages (from huggingface-hub>=0.4.0->sentence-transformers) (2023.5.0)\n",
      "Requirement already satisfied: requests in c:\\users\\uig28519\\downloads\\wpy64-31131\\python-3.11.3.amd64\\lib\\site-packages (from huggingface-hub>=0.4.0->sentence-transformers) (2.28.1)\n",
      "Requirement already satisfied: pyyaml>=5.1 in c:\\users\\uig28519\\downloads\\wpy64-31131\\python-3.11.3.amd64\\lib\\site-packages (from huggingface-hub>=0.4.0->sentence-transformers) (6.0)\n",
      "Requirement already satisfied: typing-extensions>=3.7.4.3 in c:\\users\\uig28519\\downloads\\wpy64-31131\\python-3.11.3.amd64\\lib\\site-packages (from huggingface-hub>=0.4.0->sentence-transformers) (4.8.0)\n",
      "Requirement already satisfied: packaging>=20.9 in c:\\users\\uig28519\\downloads\\wpy64-31131\\python-3.11.3.amd64\\lib\\site-packages (from huggingface-hub>=0.4.0->sentence-transformers) (22.0)\n",
      "Requirement already satisfied: sympy in c:\\users\\uig28519\\downloads\\wpy64-31131\\python-3.11.3.amd64\\lib\\site-packages (from torch>=1.6.0->sentence-transformers) (1.12)\n",
      "Requirement already satisfied: networkx in c:\\users\\uig28519\\downloads\\wpy64-31131\\python-3.11.3.amd64\\lib\\site-packages (from torch>=1.6.0->sentence-transformers) (3.1)\n",
      "Requirement already satisfied: jinja2 in c:\\users\\uig28519\\downloads\\wpy64-31131\\python-3.11.3.amd64\\lib\\site-packages (from torch>=1.6.0->sentence-transformers) (3.1.2)\n",
      "Requirement already satisfied: colorama in c:\\users\\uig28519\\downloads\\wpy64-31131\\python-3.11.3.amd64\\lib\\site-packages (from tqdm->sentence-transformers) (0.4.6)\n",
      "Requirement already satisfied: regex!=2019.12.17 in c:\\users\\uig28519\\downloads\\wpy64-31131\\python-3.11.3.amd64\\lib\\site-packages (from transformers<5.0.0,>=4.6.0->sentence-transformers) (2022.9.13)\n",
      "Requirement already satisfied: tokenizers!=0.11.3,<0.14,>=0.11.1 in c:\\users\\uig28519\\downloads\\wpy64-31131\\python-3.11.3.amd64\\lib\\site-packages (from transformers<5.0.0,>=4.6.0->sentence-transformers) (0.13.3)\n",
      "Requirement already satisfied: safetensors>=0.3.1 in c:\\users\\uig28519\\downloads\\wpy64-31131\\python-3.11.3.amd64\\lib\\site-packages (from transformers<5.0.0,>=4.6.0->sentence-transformers) (0.4.1)\n",
      "Requirement already satisfied: click in c:\\users\\uig28519\\downloads\\wpy64-31131\\python-3.11.3.amd64\\lib\\site-packages (from nltk->sentence-transformers) (8.1.3)\n",
      "Requirement already satisfied: joblib in c:\\users\\uig28519\\downloads\\wpy64-31131\\python-3.11.3.amd64\\lib\\site-packages (from nltk->sentence-transformers) (1.2.0)\n",
      "Requirement already satisfied: threadpoolctl>=2.0.0 in c:\\users\\uig28519\\downloads\\wpy64-31131\\python-3.11.3.amd64\\lib\\site-packages (from scikit-learn->sentence-transformers) (3.1.0)\n",
      "Requirement already satisfied: pillow!=8.3.*,>=5.3.0 in c:\\users\\uig28519\\downloads\\wpy64-31131\\python-3.11.3.amd64\\lib\\site-packages (from torchvision->sentence-transformers) (9.5.0)\n",
      "Requirement already satisfied: MarkupSafe>=2.0 in c:\\users\\uig28519\\downloads\\wpy64-31131\\python-3.11.3.amd64\\lib\\site-packages (from jinja2->torch>=1.6.0->sentence-transformers) (2.1.1)\n",
      "Requirement already satisfied: charset-normalizer<3,>=2 in c:\\users\\uig28519\\downloads\\wpy64-31131\\python-3.11.3.amd64\\lib\\site-packages (from requests->huggingface-hub>=0.4.0->sentence-transformers) (2.0.12)\n",
      "Requirement already satisfied: idna<4,>=2.5 in c:\\users\\uig28519\\downloads\\wpy64-31131\\python-3.11.3.amd64\\lib\\site-packages (from requests->huggingface-hub>=0.4.0->sentence-transformers) (3.1)\n",
      "Requirement already satisfied: urllib3<1.27,>=1.21.1 in c:\\users\\uig28519\\downloads\\wpy64-31131\\python-3.11.3.amd64\\lib\\site-packages (from requests->huggingface-hub>=0.4.0->sentence-transformers) (1.26.10)\n",
      "Requirement already satisfied: certifi>=2017.4.17 in c:\\users\\uig28519\\downloads\\wpy64-31131\\python-3.11.3.amd64\\lib\\site-packages (from requests->huggingface-hub>=0.4.0->sentence-transformers) (2022.9.24)\n",
      "Requirement already satisfied: mpmath>=0.19 in c:\\users\\uig28519\\downloads\\wpy64-31131\\python-3.11.3.amd64\\lib\\site-packages (from sympy->torch>=1.6.0->sentence-transformers) (1.2.1)\n"
     ]
    },
    {
     "name": "stderr",
     "output_type": "stream",
     "text": [
      "\n",
      "[notice] A new release of pip is available: 23.1.2 -> 23.3.1\n",
      "[notice] To update, run: python.exe -m pip install --upgrade pip\n"
     ]
    },
    {
     "name": "stdout",
     "output_type": "stream",
     "text": [
      "Requirement already satisfied: chromadb in c:\\users\\uig28519\\downloads\\wpy64-31131\\python-3.11.3.amd64\\lib\\site-packages (0.4.13)\n",
      "Requirement already satisfied: requests>=2.28 in c:\\users\\uig28519\\downloads\\wpy64-31131\\python-3.11.3.amd64\\lib\\site-packages (from chromadb) (2.28.1)\n",
      "Requirement already satisfied: pydantic>=1.9 in c:\\users\\uig28519\\downloads\\wpy64-31131\\python-3.11.3.amd64\\lib\\site-packages (from chromadb) (1.9.1)\n",
      "Requirement already satisfied: chroma-hnswlib==0.7.3 in c:\\users\\uig28519\\downloads\\wpy64-31131\\python-3.11.3.amd64\\lib\\site-packages (from chromadb) (0.7.3)\n",
      "Requirement already satisfied: fastapi>=0.95.2 in c:\\users\\uig28519\\downloads\\wpy64-31131\\python-3.11.3.amd64\\lib\\site-packages (from chromadb) (0.104.1)\n",
      "Requirement already satisfied: uvicorn[standard]>=0.18.3 in c:\\users\\uig28519\\downloads\\wpy64-31131\\python-3.11.3.amd64\\lib\\site-packages (from chromadb) (0.20.0)\n",
      "Requirement already satisfied: posthog>=2.4.0 in c:\\users\\uig28519\\downloads\\wpy64-31131\\python-3.11.3.amd64\\lib\\site-packages (from chromadb) (3.1.0)\n",
      "Requirement already satisfied: typing-extensions>=4.5.0 in c:\\users\\uig28519\\downloads\\wpy64-31131\\python-3.11.3.amd64\\lib\\site-packages (from chromadb) (4.8.0)\n",
      "Requirement already satisfied: pulsar-client>=3.1.0 in c:\\users\\uig28519\\downloads\\wpy64-31131\\python-3.11.3.amd64\\lib\\site-packages (from chromadb) (3.3.0)\n",
      "Requirement already satisfied: onnxruntime>=1.14.1 in c:\\users\\uig28519\\downloads\\wpy64-31131\\python-3.11.3.amd64\\lib\\site-packages (from chromadb) (1.16.3)\n",
      "Requirement already satisfied: tokenizers>=0.13.2 in c:\\users\\uig28519\\downloads\\wpy64-31131\\python-3.11.3.amd64\\lib\\site-packages (from chromadb) (0.13.3)\n",
      "Requirement already satisfied: pypika>=0.48.9 in c:\\users\\uig28519\\downloads\\wpy64-31131\\python-3.11.3.amd64\\lib\\site-packages (from chromadb) (0.48.9)\n",
      "Requirement already satisfied: tqdm>=4.65.0 in c:\\users\\uig28519\\downloads\\wpy64-31131\\python-3.11.3.amd64\\lib\\site-packages (from chromadb) (4.66.1)\n",
      "Requirement already satisfied: overrides>=7.3.1 in c:\\users\\uig28519\\downloads\\wpy64-31131\\python-3.11.3.amd64\\lib\\site-packages (from chromadb) (7.4.0)\n",
      "Requirement already satisfied: importlib-resources in c:\\users\\uig28519\\downloads\\wpy64-31131\\python-3.11.3.amd64\\lib\\site-packages (from chromadb) (6.1.1)\n",
      "Requirement already satisfied: bcrypt>=4.0.1 in c:\\users\\uig28519\\downloads\\wpy64-31131\\python-3.11.3.amd64\\lib\\site-packages (from chromadb) (4.1.1)\n",
      "Requirement already satisfied: typer>=0.9.0 in c:\\users\\uig28519\\downloads\\wpy64-31131\\python-3.11.3.amd64\\lib\\site-packages (from chromadb) (0.9.0)\n",
      "Requirement already satisfied: numpy>=1.22.5 in c:\\users\\uig28519\\downloads\\wpy64-31131\\python-3.11.3.amd64\\lib\\site-packages (from chromadb) (1.24.2)\n",
      "Requirement already satisfied: anyio<4.0.0,>=3.7.1 in c:\\users\\uig28519\\downloads\\wpy64-31131\\python-3.11.3.amd64\\lib\\site-packages (from fastapi>=0.95.2->chromadb) (3.7.1)\n",
      "Requirement already satisfied: starlette<0.28.0,>=0.27.0 in c:\\users\\uig28519\\downloads\\wpy64-31131\\python-3.11.3.amd64\\lib\\site-packages (from fastapi>=0.95.2->chromadb) (0.27.0)\n",
      "Requirement already satisfied: coloredlogs in c:\\users\\uig28519\\downloads\\wpy64-31131\\python-3.11.3.amd64\\lib\\site-packages (from onnxruntime>=1.14.1->chromadb) (15.0.1)\n",
      "Requirement already satisfied: flatbuffers in c:\\users\\uig28519\\downloads\\wpy64-31131\\python-3.11.3.amd64\\lib\\site-packages (from onnxruntime>=1.14.1->chromadb) (23.5.26)\n",
      "Requirement already satisfied: packaging in c:\\users\\uig28519\\downloads\\wpy64-31131\\python-3.11.3.amd64\\lib\\site-packages (from onnxruntime>=1.14.1->chromadb) (22.0)\n",
      "Requirement already satisfied: protobuf in c:\\users\\uig28519\\downloads\\wpy64-31131\\python-3.11.3.amd64\\lib\\site-packages (from onnxruntime>=1.14.1->chromadb) (3.20.3)\n",
      "Requirement already satisfied: sympy in c:\\users\\uig28519\\downloads\\wpy64-31131\\python-3.11.3.amd64\\lib\\site-packages (from onnxruntime>=1.14.1->chromadb) (1.12)\n",
      "Requirement already satisfied: six>=1.5 in c:\\users\\uig28519\\downloads\\wpy64-31131\\python-3.11.3.amd64\\lib\\site-packages (from posthog>=2.4.0->chromadb) (1.16.0)\n",
      "Requirement already satisfied: monotonic>=1.5 in c:\\users\\uig28519\\downloads\\wpy64-31131\\python-3.11.3.amd64\\lib\\site-packages (from posthog>=2.4.0->chromadb) (1.6)\n",
      "Requirement already satisfied: backoff>=1.10.0 in c:\\users\\uig28519\\downloads\\wpy64-31131\\python-3.11.3.amd64\\lib\\site-packages (from posthog>=2.4.0->chromadb) (2.2.1)\n",
      "Requirement already satisfied: python-dateutil>2.1 in c:\\users\\uig28519\\downloads\\wpy64-31131\\python-3.11.3.amd64\\lib\\site-packages (from posthog>=2.4.0->chromadb) (2.8.2)\n",
      "Requirement already satisfied: certifi in c:\\users\\uig28519\\downloads\\wpy64-31131\\python-3.11.3.amd64\\lib\\site-packages (from pulsar-client>=3.1.0->chromadb) (2022.9.24)\n",
      "Requirement already satisfied: charset-normalizer<3,>=2 in c:\\users\\uig28519\\downloads\\wpy64-31131\\python-3.11.3.amd64\\lib\\site-packages (from requests>=2.28->chromadb) (2.0.12)\n",
      "Requirement already satisfied: idna<4,>=2.5 in c:\\users\\uig28519\\downloads\\wpy64-31131\\python-3.11.3.amd64\\lib\\site-packages (from requests>=2.28->chromadb) (3.1)\n",
      "Requirement already satisfied: urllib3<1.27,>=1.21.1 in c:\\users\\uig28519\\downloads\\wpy64-31131\\python-3.11.3.amd64\\lib\\site-packages (from requests>=2.28->chromadb) (1.26.10)\n",
      "Requirement already satisfied: colorama in c:\\users\\uig28519\\downloads\\wpy64-31131\\python-3.11.3.amd64\\lib\\site-packages (from tqdm>=4.65.0->chromadb) (0.4.6)\n",
      "Requirement already satisfied: click<9.0.0,>=7.1.1 in c:\\users\\uig28519\\downloads\\wpy64-31131\\python-3.11.3.amd64\\lib\\site-packages (from typer>=0.9.0->chromadb) (8.1.3)\n",
      "Requirement already satisfied: h11>=0.8 in c:\\users\\uig28519\\downloads\\wpy64-31131\\python-3.11.3.amd64\\lib\\site-packages (from uvicorn[standard]>=0.18.3->chromadb) (0.12.0)\n",
      "Requirement already satisfied: httptools>=0.5.0 in c:\\users\\uig28519\\downloads\\wpy64-31131\\python-3.11.3.amd64\\lib\\site-packages (from uvicorn[standard]>=0.18.3->chromadb) (0.6.1)\n",
      "Requirement already satisfied: python-dotenv>=0.13 in c:\\users\\uig28519\\downloads\\wpy64-31131\\python-3.11.3.amd64\\lib\\site-packages (from uvicorn[standard]>=0.18.3->chromadb) (0.19.2)\n",
      "Requirement already satisfied: pyyaml>=5.1 in c:\\users\\uig28519\\downloads\\wpy64-31131\\python-3.11.3.amd64\\lib\\site-packages (from uvicorn[standard]>=0.18.3->chromadb) (6.0)\n",
      "Requirement already satisfied: watchfiles>=0.13 in c:\\users\\uig28519\\downloads\\wpy64-31131\\python-3.11.3.amd64\\lib\\site-packages (from uvicorn[standard]>=0.18.3->chromadb) (0.21.0)\n",
      "Requirement already satisfied: websockets>=10.4 in c:\\users\\uig28519\\downloads\\wpy64-31131\\python-3.11.3.amd64\\lib\\site-packages (from uvicorn[standard]>=0.18.3->chromadb) (11.0.3)\n",
      "Requirement already satisfied: sniffio>=1.1 in c:\\users\\uig28519\\downloads\\wpy64-31131\\python-3.11.3.amd64\\lib\\site-packages (from anyio<4.0.0,>=3.7.1->fastapi>=0.95.2->chromadb) (1.2.0)\n",
      "Requirement already satisfied: humanfriendly>=9.1 in c:\\users\\uig28519\\downloads\\wpy64-31131\\python-3.11.3.amd64\\lib\\site-packages (from coloredlogs->onnxruntime>=1.14.1->chromadb) (10.0)\n",
      "Requirement already satisfied: mpmath>=0.19 in c:\\users\\uig28519\\downloads\\wpy64-31131\\python-3.11.3.amd64\\lib\\site-packages (from sympy->onnxruntime>=1.14.1->chromadb) (1.2.1)\n",
      "Requirement already satisfied: pyreadline3 in c:\\users\\uig28519\\downloads\\wpy64-31131\\python-3.11.3.amd64\\lib\\site-packages (from humanfriendly>=9.1->coloredlogs->onnxruntime>=1.14.1->chromadb) (3.4.1)\n"
     ]
    },
    {
     "name": "stderr",
     "output_type": "stream",
     "text": [
      "\n",
      "[notice] A new release of pip is available: 23.1.2 -> 23.3.1\n",
      "[notice] To update, run: python.exe -m pip install --upgrade pip\n"
     ]
    }
   ],
   "source": [
    "# python- 3.8.10 \n",
    "# !pip install --upgrade pip\n",
    "!pip install transformers\n",
    "!pip install datasets --quiet\n",
    "!pip install torchdata\n",
    "!pip install torch\n",
    "!pip install streamlit\n",
    "!pip install openai\n",
    "!pip install langchain\n",
    "!pip install unstructured\n",
    "!pip install sentence-transformers\n",
    "!pip install chromadb\n",
    "!pip install evaluate==0.4.0\n",
    "!pip install rouge_score==0.1.2\n",
    "!pip install loralib==0.1.1\n",
    "!pip install peft==0.3.0"
   ]
  },
  {
   "cell_type": "code",
   "execution_count": 1,
   "id": "820c1620-b5bd-43d9-988a-b4775c66ab32",
   "metadata": {},
   "outputs": [],
   "source": [
    "import warnings\n",
    "warnings.filterwarnings('ignore')"
   ]
  },
  {
   "cell_type": "code",
   "execution_count": 2,
   "id": "df4466e3-0b30-4e1b-a79a-9f6170370afc",
   "metadata": {},
   "outputs": [],
   "source": [
    "import torch\n",
    "import evaluate\n",
    "import time\n",
    "import pandas as pd\n",
    "import numpy as np\n",
    "from datasets import load_dataset\n",
    "from transformers import (AutoModelForSeq2SeqLM, AutoModelForCausalLM, \n",
    "                          AutoTokenizer, GenerationConfig, TrainingArguments, Trainer)\n",
    "from transformers import AutoTokenizer\n",
    "from transformers import GenerationConfig\n"
   ]
  },
  {
   "cell_type": "markdown",
   "id": "f57a2873-ff40-45e3-874c-bf6e42c264a9",
   "metadata": {},
   "source": [
    "### RAG"
   ]
  },
  {
   "cell_type": "markdown",
   "id": "52624d5e-6c78-4a20-ba5d-92213c7f22cc",
   "metadata": {},
   "source": [
    "https://towardsdatascience.com/build-industry-specific-llms-using-retrieval-augmented-generation-af9e98bb6f68"
   ]
  },
  {
   "cell_type": "markdown",
   "id": "2b7bcfd7-faac-4495-9bd5-6496e1c772a4",
   "metadata": {},
   "source": [
    "### Langchain"
   ]
  },
  {
   "cell_type": "markdown",
   "id": "52231ff6-67e1-4489-9b13-d6d4e7f22a55",
   "metadata": {},
   "source": [
    "https://python.langchain.com/docs/get_started/introduction"
   ]
  },
  {
   "cell_type": "markdown",
   "id": "76de6728-0bb3-4112-a66f-159e9d7843ce",
   "metadata": {},
   "source": [
    "### OpenAI API Key\n",
    "\n",
    "Note: Please note that the use of the OpenAI API may require the utilization of allocated free credits or additional purchases for implementing the project. Kindly take note of the free credits limit provided for your usage."
   ]
  },
  {
   "cell_type": "markdown",
   "id": "5fb0e4ea-4f39-483c-b523-fdc2184137b6",
   "metadata": {},
   "source": [
    "https://www.howtogeek.com/885918/how-to-get-an-openai-api-key/#:~:text=Go%20to%20OpenAI's%20Platform%20website,generate%20a%20new%20API%20key."
   ]
  },
  {
   "cell_type": "code",
   "execution_count": 2,
   "id": "79fac159-3d3f-43d8-8bb5-947ff2bcffce",
   "metadata": {
    "tags": []
   },
   "outputs": [],
   "source": [
    "!streamlit run llm_app.py"
   ]
  },
  {
   "cell_type": "markdown",
   "id": "61b809f1",
   "metadata": {},
   "source": []
  }
 ],
 "metadata": {
  "kernelspec": {
   "display_name": "Python 3 (ipykernel)",
   "language": "python",
   "name": "python3"
  },
  "language_info": {
   "codemirror_mode": {
    "name": "ipython",
    "version": 3
   },
   "file_extension": ".py",
   "mimetype": "text/x-python",
   "name": "python",
   "nbconvert_exporter": "python",
   "pygments_lexer": "ipython3",
   "version": "3.11.3"
  }
 },
 "nbformat": 4,
 "nbformat_minor": 5
}
